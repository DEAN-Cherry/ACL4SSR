{
 "cells": [
  {
   "cell_type": "code",
   "execution_count": 17,
   "id": "initial_id",
   "metadata": {
    "ExecuteTime": {
     "end_time": "2024-02-04T10:27:10.549480300Z",
     "start_time": "2024-02-04T10:27:10.535958600Z"
    },
    "collapsed": true
   },
   "outputs": [],
   "source": [
    "import json"
   ]
  },
  {
   "cell_type": "code",
   "execution_count": 18,
   "id": "c5ee734a26983bc9",
   "metadata": {
    "ExecuteTime": {
     "end_time": "2024-02-04T10:27:50.109012500Z",
     "start_time": "2024-02-04T10:27:50.089896400Z"
    },
    "collapsed": false
   },
   "outputs": [],
   "source": [
    "\n",
    "with open('../Config/config.json', encoding='utf-8') as f:\n",
    "    data = json.load(f)"
   ]
  },
  {
   "cell_type": "code",
   "execution_count": 19,
   "id": "4904de22b2ce4cd4",
   "metadata": {
    "ExecuteTime": {
     "end_time": "2024-02-04T10:29:53.093627100Z",
     "start_time": "2024-02-04T10:29:53.075599600Z"
    },
    "collapsed": false
   },
   "outputs": [],
   "source": [
    "with open('../Config/dns.json', encoding='utf-8') as f:\n",
    "    dns = json.load(f)\n",
    "\n",
    "\n",
    "with open('../Config/outbounds.json', encoding='utf-8') as f:\n",
    "    outbounds = json.load(f)\n",
    "\n",
    "with open('../Config/route.json', encoding='utf-8') as f:\n",
    "    route = json.load(f)\n"
   ]
  },
  {
   "cell_type": "code",
   "execution_count": 20,
   "id": "78d31b01",
   "metadata": {},
   "outputs": [
    {
     "data": {
      "text/plain": [
       "{'servers': [{'tag': 'dns_block', 'address': 'rcode://success'},\n",
       "  {'tag': 'dns_direct',\n",
       "   'address': 'https://dns.alidns.com/dns-query',\n",
       "   'address_resolver': 'dns_ip',\n",
       "   'strategy': 'prefer_ipv6',\n",
       "   'detour': 'DIRECT'},\n",
       "  {'tag': 'dns_tx',\n",
       "   'address': 'https://doh.pub/dns-query',\n",
       "   'address_resolver': 'dns_ip',\n",
       "   'strategy': 'prefer_ipv6',\n",
       "   'detour': 'DIRECT'},\n",
       "  {'tag': 'dns_proxy',\n",
       "   'address': 'https://cloudflare-dns.com/dns-query',\n",
       "   'address_resolver': 'dns_ip'},\n",
       "  {'tag': 'dns_google',\n",
       "   'address': 'https://dns.google/dns-query',\n",
       "   'address_resolver': 'dns_ip'},\n",
       "  {'tag': 'dns_ip', 'address': '223.5.5.5', 'detour': 'DIRECT'},\n",
       "  {'tag': 'dns_fakeip', 'address': 'fakeip'},\n",
       "  {'tag': 'local', 'address': 'local', 'detour': 'DIRECT'}],\n",
       " 'rules': [{'outbound': ['any'], 'server': 'dns_ip'},\n",
       "  {'clash_mode': 'Global', 'server': 'dns_fakeip'},\n",
       "  {'clash_mode': 'Direct', 'server': 'dns_direct'},\n",
       "  {'rule_set': ['ads', 'adb-1', 'adb-2', 'ads-p', 'privacy'],\n",
       "   'server': 'dns_block'},\n",
       "  {'query_type': ['A', 'AAAA'],\n",
       "   'server': ['dns_direct', 'dns_ip', 'dns_tx', 'dns_proxy', 'dns_google'],\n",
       "   'fallback_rule': {'rule_set': ['geosite-cn',\n",
       "     'cn',\n",
       "     'cn-ip',\n",
       "     'cloud-cn',\n",
       "     'download'],\n",
       "    'invert': True}},\n",
       "  {'query_type': ['A', 'AAAA'], 'server': 'dns_fakeip'}],\n",
       " 'final': 'dns_direct',\n",
       " 'strategy': 'prefer_ipv6',\n",
       " 'independent_cache': True,\n",
       " 'reverse_mapping': True,\n",
       " 'fakeip': {'enabled': True,\n",
       "  'inet4_range': '198.18.0.0/16',\n",
       "  'inet6_range': 'fc00::/16'}}"
      ]
     },
     "execution_count": 20,
     "metadata": {},
     "output_type": "execute_result"
    }
   ],
   "source": [
    "dns['dns']"
   ]
  },
  {
   "cell_type": "code",
   "execution_count": 21,
   "id": "12fe10407a03d88c",
   "metadata": {
    "ExecuteTime": {
     "end_time": "2024-02-04T10:30:40.956611900Z",
     "start_time": "2024-02-04T10:30:40.938094700Z"
    },
    "collapsed": false
   },
   "outputs": [],
   "source": [
    "data['outbounds'] = outbounds['outbounds']\n",
    "data['dns'] = dns['dns']\n",
    "data['route'] = route['route']\n"
   ]
  },
  {
   "cell_type": "code",
   "execution_count": 22,
   "id": "5915bb5e195de3eb",
   "metadata": {
    "ExecuteTime": {
     "end_time": "2024-02-04T10:34:09.356438900Z",
     "start_time": "2024-02-04T10:34:09.330239600Z"
    },
    "collapsed": false
   },
   "outputs": [],
   "source": [
    "with open('../Config/config.json', 'w', encoding='utf-8') as f:\n",
    "    json.dump(data, f, ensure_ascii=False, indent=4)"
   ]
  },
  {
   "cell_type": "code",
   "execution_count": null,
   "id": "9fa1f17431f6904",
   "metadata": {
    "collapsed": false
   },
   "outputs": [],
   "source": []
  }
 ],
 "metadata": {
  "kernelspec": {
   "display_name": "Python 3",
   "language": "python",
   "name": "python3"
  },
  "language_info": {
   "codemirror_mode": {
    "name": "ipython",
    "version": 3
   },
   "file_extension": ".py",
   "mimetype": "text/x-python",
   "name": "python",
   "nbconvert_exporter": "python",
   "pygments_lexer": "ipython3",
   "version": "3.10.9"
  }
 },
 "nbformat": 4,
 "nbformat_minor": 5
}
