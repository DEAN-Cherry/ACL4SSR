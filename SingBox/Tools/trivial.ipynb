{
 "cells": [
  {
   "cell_type": "code",
   "execution_count": 1,
   "id": "initial_id",
   "metadata": {
    "collapsed": true,
    "ExecuteTime": {
     "end_time": "2024-02-04T10:27:10.549480300Z",
     "start_time": "2024-02-04T10:27:10.535958600Z"
    }
   },
   "outputs": [],
   "source": [
    "import json"
   ]
  },
  {
   "cell_type": "code",
   "outputs": [],
   "source": [
    "\n",
    "with open('../Config/config.json', encoding='utf-8') as f:\n",
    "    data = json.load(f)"
   ],
   "metadata": {
    "collapsed": false,
    "ExecuteTime": {
     "end_time": "2024-02-04T10:27:50.109012500Z",
     "start_time": "2024-02-04T10:27:50.089896400Z"
    }
   },
   "id": "c5ee734a26983bc9",
   "execution_count": 3
  },
  {
   "cell_type": "code",
   "outputs": [
    {
     "data": {
      "text/plain": "{'disabled': False, 'level': 'info', 'timestamp': True}"
     },
     "execution_count": 7,
     "metadata": {},
     "output_type": "execute_result"
    }
   ],
   "source": [
    "data['log']"
   ],
   "metadata": {
    "collapsed": false,
    "ExecuteTime": {
     "end_time": "2024-02-04T10:28:36.395742500Z",
     "start_time": "2024-02-04T10:28:36.382483500Z"
    }
   },
   "id": "c19b130d8ba606b9",
   "execution_count": 7
  },
  {
   "cell_type": "code",
   "outputs": [
    {
     "data": {
      "text/plain": "[{'type': 'selector',\n  'tag': '🚀 节点选择',\n  'outbounds': ['♻️ 自动选择',\n   '🔯 故障转移',\n   '🇭🇰 香港节点',\n   '🇹🇼 台湾节点',\n   '🇸🇬 狮城节点',\n   '🇯🇵 日本节点',\n   '🇺🇲 美国节点',\n   '🇰🇷 韩国节点',\n   '🚀 手动切换',\n   'DIRECT']},\n {'type': 'selector',\n  'tag': '🚀 手动切换',\n  'providers': ['🛫 FastLink', '🛫 NiceCloud'],\n  'excludes': '官网|客户端'},\n {'type': 'urltest',\n  'tag': '♻️ 自动选择',\n  'providers': ['🛫 FastLink', '🛫 NiceCloud'],\n  'excludes': '游戏',\n  'url': 'http://www.apple.com/library/test/success.html',\n  'interval': '5m',\n  'tolerance': 50},\n {'type': 'urltest',\n  'tag': '🔯 故障转移',\n  'providers': ['🛫 FastLink', '🛫 NiceCloud']},\n {'type': 'selector',\n  'tag': '📲 电报消息',\n  'outbounds': ['🚀 节点选择',\n   '♻️ 自动选择',\n   '🇸🇬 狮城节点',\n   '🇭🇰 香港节点',\n   '🇹🇼 台湾节点',\n   '🇯🇵 日本节点',\n   '🇺🇲 美国节点',\n   '🇰🇷 韩国节点',\n   '🚀 手动切换',\n   'DIRECT']},\n {'type': 'selector',\n  'tag': '💬 OpenAi',\n  'outbounds': ['🚀 节点选择',\n   '♻️ 自动选择',\n   '🇸🇬 狮城节点',\n   '🇭🇰 香港节点',\n   '🇹🇼 台湾节点',\n   '🇯🇵 日本节点',\n   '🇺🇲 美国节点',\n   '🇰🇷 韩国节点',\n   '🚀 手动切换',\n   'DIRECT']},\n {'type': 'selector',\n  'tag': '👾 JetBrainsAI',\n  'outbounds': ['🚀 节点选择',\n   '♻️ 自动选择',\n   '🇭🇰 香港节点',\n   '🇹🇼 台湾节点',\n   '🇯🇵 日本节点',\n   '🇸🇬 狮城节点',\n   '🇺🇲 美国节点',\n   'DIRECT']},\n {'type': 'selector',\n  'tag': '📹 油管视频',\n  'outbounds': ['🚀 节点选择',\n   '♻️ 自动选择',\n   '🇸🇬 狮城节点',\n   '🇭🇰 香港节点',\n   '🇹🇼 台湾节点',\n   '🇯🇵 日本节点',\n   '🇺🇲 美国节点',\n   '🇰🇷 韩国节点',\n   '🚀 手动切换',\n   'DIRECT']},\n {'type': 'selector',\n  'tag': '🎥 奈飞视频',\n  'outbounds': ['🎥 奈飞节点',\n   '🚀 节点选择',\n   '♻️ 自动选择',\n   '🇸🇬 狮城节点',\n   '🇭🇰 香港节点',\n   '🇹🇼 台湾节点',\n   '🇯🇵 日本节点',\n   '🇺🇲 美国节点',\n   '🇰🇷 韩国节点',\n   '🚀 手动切换',\n   'DIRECT']},\n {'type': 'selector',\n  'tag': '📺 巴哈姆特',\n  'outbounds': ['🇹🇼 台湾节点', '🚀 节点选择', '🚀 手动切换', 'DIRECT']},\n {'type': 'selector',\n  'tag': '📺 哔哩哔哩',\n  'outbounds': ['🎯 全球直连', '🇭🇰 香港节点', '🇹🇼 台湾节点']},\n {'type': 'selector',\n  'tag': '🌍 国外媒体',\n  'outbounds': ['🚀 节点选择',\n   '♻️ 自动选择',\n   '🇭🇰 香港节点',\n   '🇹🇼 台湾节点',\n   '🇸🇬 狮城节点',\n   '🇯🇵 日本节点',\n   '🇺🇲 美国节点',\n   '🇰🇷 韩国节点',\n   '🚀 手动切换',\n   'DIRECT']},\n {'type': 'selector',\n  'tag': '🌏 国内媒体',\n  'outbounds': ['DIRECT',\n   '🇭🇰 香港节点',\n   '🇹🇼 台湾节点',\n   '🇸🇬 狮城节点',\n   '🇯🇵 日本节点',\n   '🚀 手动切换']},\n {'type': 'selector',\n  'tag': '☁️ CloudFlare Server',\n  'outbounds': ['♻️ 自动选择',\n   'DIRECT',\n   '🇭🇰 香港节点',\n   '🇹🇼 台湾节点',\n   '🇸🇬 狮城节点',\n   '🇯🇵 日本节点',\n   '🇺🇲 美国节点',\n   '🇰🇷 韩国节点',\n   '🚀 手动切换']},\n {'type': 'selector',\n  'tag': '📢 谷歌FCM',\n  'outbounds': ['DIRECT',\n   '🚀 节点选择',\n   '🇺🇲 美国节点',\n   '🇭🇰 香港节点',\n   '🇹🇼 台湾节点',\n   '🇸🇬 狮城节点',\n   '🇯🇵 日本节点',\n   '🇰🇷 韩国节点',\n   '🚀 手动切换']},\n {'type': 'selector',\n  'tag': 'Ⓜ️ 微软Bing',\n  'outbounds': ['🚀 节点选择',\n   '♻️ 自动选择',\n   '🇭🇰 香港节点',\n   '🇹🇼 台湾节点',\n   '🇯🇵 日本节点',\n   '🇸🇬 狮城节点',\n   '🇺🇲 美国节点',\n   'DIRECT']},\n {'type': 'selector',\n  'tag': 'Ⓜ️ 微软云盘',\n  'outbounds': ['DIRECT',\n   '🚀 节点选择',\n   '🇺🇲 美国节点',\n   '🇭🇰 香港节点',\n   '🇹🇼 台湾节点',\n   '🇸🇬 狮城节点',\n   '🇯🇵 日本节点',\n   '🇰🇷 韩国节点',\n   '🚀 手动切换']},\n {'type': 'selector',\n  'tag': 'Ⓜ️ 微软服务',\n  'outbounds': ['DIRECT',\n   '🚀 节点选择',\n   '🇺🇲 美国节点',\n   '🇭🇰 香港节点',\n   '🇹🇼 台湾节点',\n   '🇸🇬 狮城节点',\n   '🇯🇵 日本节点',\n   '🇰🇷 韩国节点',\n   '🚀 手动切换']},\n {'type': 'selector',\n  'tag': '🍎 苹果服务',\n  'outbounds': ['DIRECT',\n   '🚀 节点选择',\n   '🇺🇲 美国节点',\n   '🇭🇰 香港节点',\n   '🇹🇼 台湾节点',\n   '🇸🇬 狮城节点',\n   '🇯🇵 日本节点',\n   '🇰🇷 韩国节点',\n   '🚀 手动切换']},\n {'type': 'selector',\n  'tag': '🎮 游戏平台',\n  'outbounds': ['DIRECT',\n   '🕹️ 游戏节点',\n   '🚀 节点选择',\n   '🇺🇲 美国节点',\n   '🇭🇰 香港节点',\n   '🇹🇼 台湾节点',\n   '🇸🇬 狮城节点',\n   '🇯🇵 日本节点',\n   '🇰🇷 韩国节点',\n   '🚀 手动切换']},\n {'type': 'selector',\n  'tag': '🎶 网易音乐',\n  'outbounds': ['DIRECT', '🚀 节点选择', '♻️ 自动选择', '🎶 网易节点']},\n {'type': 'selector',\n  'tag': '🎯 全球直连',\n  'outbounds': ['DIRECT', '🚀 节点选择', '♻️ 自动选择']},\n {'type': 'selector', 'tag': '🛑 广告拦截', 'outbounds': ['REJECT', 'DIRECT']},\n {'type': 'selector', 'tag': '🍃 应用净化', 'outbounds': ['REJECT', 'DIRECT']},\n {'type': 'selector', 'tag': '🆎 AdBlock', 'outbounds': ['REJECT', 'DIRECT']},\n {'type': 'selector', 'tag': '🛡️ 隐私防护', 'outbounds': ['REJECT', 'DIRECT']},\n {'type': 'selector',\n  'tag': '🐟 漏网之鱼',\n  'outbounds': ['🚀 节点选择',\n   '♻️ 自动选择',\n   'DIRECT',\n   '🇭🇰 香港节点',\n   '🇹🇼 台湾节点',\n   '🇸🇬 狮城节点',\n   '🇯🇵 日本节点',\n   '🇺🇲 美国节点',\n   '🇰🇷 韩国节点',\n   '🚀 手动切换']},\n {'type': 'urltest',\n  'tag': '🇭🇰 香港节点',\n  'providers': ['🛫 FastLink', '🛫 NiceCloud'],\n  'includes': ['香港|广港|HK|hk|Hong Kong|HongKong|hongkong'],\n  'excludes': '游戏',\n  'url': 'http://www.apple.com/library/test/success.html',\n  'interval': '5m',\n  'tolerance': 50},\n {'type': 'urltest',\n  'tag': '🇹🇼 台湾节点',\n  'providers': ['🛫 FastLink', '🛫 NiceCloud'],\n  'includes': ['台|新北|彰化|TW|Taiwan'],\n  'url': 'http://www.apple.com/library/test/success.html',\n  'interval': '5m',\n  'tolerance': 50},\n {'type': 'urltest',\n  'tag': '🇯🇵 日本节点',\n  'providers': ['🛫 FastLink', '🛫 NiceCloud'],\n  'includes': ['日本|川日|东京|大阪|泉日|埼玉|沪日|深日|[^-]日|JP|Japan'],\n  'url': 'http://www.apple.com/library/test/success.html',\n  'interval': '5m',\n  'tolerance': 50},\n {'type': 'urltest',\n  'tag': '🇺🇲 美国节点',\n  'providers': ['🛫 FastLink', '🛫 NiceCloud'],\n  'includes': ['美|波特兰|达拉斯|俄勒冈|凤凰城|费利蒙|硅谷|拉斯维加斯|洛杉矶|圣何塞|圣克拉拉|西雅图|芝加哥|US|United States'],\n  'url': 'http://www.apple.com/library/test/success.html',\n  'interval': '5m',\n  'tolerance': 150},\n {'type': 'urltest',\n  'tag': '🇪🇺 欧洲节点',\n  'providers': ['🛫 FastLink', '🛫 NiceCloud'],\n  'includes': ['欧洲|德国|法国|英国|土耳其|加拿大|阿根廷|爱沙尼亚'],\n  'url': 'http://www.apple.com/library/test/success.html',\n  'interval': '5m',\n  'tolerance': 50},\n {'type': 'urltest',\n  'tag': '🇸🇬 狮城节点',\n  'providers': ['🛫 FastLink', '🛫 NiceCloud'],\n  'includes': ['新加坡|坡|狮城|SG|Singapore'],\n  'url': 'http://www.apple.com/library/test/success.html',\n  'interval': '5m',\n  'tolerance': 50},\n {'type': 'urltest',\n  'tag': '🇰🇷 韩国节点',\n  'providers': ['🛫 FastLink', '🛫 NiceCloud'],\n  'includes': ['KR|Korea|KOR|首尔|韩|韓'],\n  'url': 'http://www.apple.com/library/test/success.html',\n  'interval': '5m',\n  'tolerance': 50},\n {'type': 'urltest',\n  'tag': '🕹️ 游戏节点',\n  'providers': ['🛫 FastLink'],\n  'includes': ['游戏|Game|Gaming|Gamer|玩家'],\n  'url': 'http://www.apple.com/library/test/success.html',\n  'interval': '5m',\n  'tolerance': 50},\n {'type': 'urltest',\n  'tag': '🎶 网易节点',\n  'providers': ['🛫 FastLink', '🛫 NiceCloud'],\n  'includes': ['网易|音乐|解锁|Music|NetEase'],\n  'excludes': '游戏',\n  'url': 'http://www.apple.com/library/test/success.html',\n  'interval': '5m',\n  'tolerance': 50},\n {'type': 'urltest',\n  'tag': '🎥 奈飞节点',\n  'providers': ['🛫 FastLink', '🛫 NiceCloud'],\n  'includes': ['NF|奈飞|解锁|Netflix|NETFLIX|Media'],\n  'excludes': '音乐',\n  'url': 'http://www.apple.com/library/test/success.html',\n  'interval': '5m',\n  'tolerance': 50},\n {'type': 'selector',\n  'tag': 'GLOBAL',\n  'outbounds': ['♻️ 自动选择',\n   '🔯 故障转移',\n   '🇭🇰 香港节点',\n   '🇹🇼 台湾节点',\n   '🇸🇬 狮城节点',\n   '🇯🇵 日本节点',\n   '🇺🇲 美国节点',\n   '🇰🇷 韩国节点',\n   '🚀 手动切换',\n   'DIRECT']},\n {'tag': 'REJECT', 'type': 'block'},\n {'tag': 'DIRECT', 'type': 'direct', 'domain_strategy': 'prefer_ipv6'},\n {'tag': 'dns-out', 'type': 'dns'}]"
     },
     "execution_count": 8,
     "metadata": {},
     "output_type": "execute_result"
    }
   ],
   "source": [
    "data['outbounds']"
   ],
   "metadata": {
    "collapsed": false,
    "ExecuteTime": {
     "end_time": "2024-02-04T10:29:21.748484500Z",
     "start_time": "2024-02-04T10:29:21.739485200Z"
    }
   },
   "id": "b9bbe21b30399cc5",
   "execution_count": 8
  },
  {
   "cell_type": "code",
   "outputs": [],
   "source": [
    "with open('../Config/outbounds.json', encoding='utf-8') as f:\n",
    "    outbounds = json.load(f)"
   ],
   "metadata": {
    "collapsed": false,
    "ExecuteTime": {
     "end_time": "2024-02-04T10:29:53.093627100Z",
     "start_time": "2024-02-04T10:29:53.075599600Z"
    }
   },
   "id": "4904de22b2ce4cd4",
   "execution_count": 9
  },
  {
   "cell_type": "code",
   "outputs": [
    {
     "data": {
      "text/plain": "{'outbounds': [{'type': 'selector',\n   'tag': '🚀 节点选择',\n   'outbounds': ['♻️ 自动选择',\n    '🔯 故障转移',\n    '🇭🇰 香港节点',\n    '🇹🇼 台湾节点',\n    '🇸🇬 狮城节点',\n    '🇯🇵 日本节点',\n    '🇺🇲 美国节点',\n    '🇰🇷 韩国节点',\n    '🚀 手动切换',\n    'DIRECT']},\n  {'type': 'selector',\n   'tag': '🚀 手动切换',\n   'providers': ['🛫 FastLink', '🛫 NiceCloud'],\n   'excludes': '官网|客户端'},\n  {'type': 'urltest',\n   'tag': '♻️ 自动选择',\n   'providers': ['🛫 FastLink', '🛫 NiceCloud'],\n   'excludes': '游戏|官网|客户端|福利',\n   'url': 'http://www.apple.com/library/test/success.html',\n   'interval': '5m',\n   'tolerance': 50},\n  {'type': 'urltest',\n   'tag': '🔯 故障转移',\n   'providers': ['🛫 FastLink', '🛫 NiceCloud']},\n  {'type': 'selector',\n   'tag': '📲 电报消息',\n   'outbounds': ['🚀 节点选择',\n    '♻️ 自动选择',\n    '🇸🇬 狮城节点',\n    '🇭🇰 香港节点',\n    '🇹🇼 台湾节点',\n    '🇯🇵 日本节点',\n    '🇺🇲 美国节点',\n    '🇰🇷 韩国节点',\n    '🚀 手动切换',\n    'DIRECT']},\n  {'type': 'selector',\n   'tag': '💬 OpenAi',\n   'outbounds': ['🚀 节点选择',\n    '♻️ 自动选择',\n    '🇸🇬 狮城节点',\n    '🇭🇰 香港节点',\n    '🇹🇼 台湾节点',\n    '🇯🇵 日本节点',\n    '🇺🇲 美国节点',\n    '🇰🇷 韩国节点',\n    '🚀 手动切换',\n    'DIRECT']},\n  {'type': 'selector',\n   'tag': '👾 JetBrainsAI',\n   'outbounds': ['🚀 节点选择',\n    '♻️ 自动选择',\n    '🇭🇰 香港节点',\n    '🇹🇼 台湾节点',\n    '🇯🇵 日本节点',\n    '🇸🇬 狮城节点',\n    '🇺🇲 美国节点',\n    'DIRECT']},\n  {'type': 'selector',\n   'tag': '📹 油管视频',\n   'outbounds': ['🚀 节点选择',\n    '♻️ 自动选择',\n    '🇸🇬 狮城节点',\n    '🇭🇰 香港节点',\n    '🇹🇼 台湾节点',\n    '🇯🇵 日本节点',\n    '🇺🇲 美国节点',\n    '🇰🇷 韩国节点',\n    '🚀 手动切换',\n    'DIRECT']},\n  {'type': 'selector',\n   'tag': '🎥 奈飞视频',\n   'outbounds': ['🎥 奈飞节点',\n    '🚀 节点选择',\n    '♻️ 自动选择',\n    '🇸🇬 狮城节点',\n    '🇭🇰 香港节点',\n    '🇹🇼 台湾节点',\n    '🇯🇵 日本节点',\n    '🇺🇲 美国节点',\n    '🇰🇷 韩国节点',\n    '🚀 手动切换',\n    'DIRECT']},\n  {'type': 'selector',\n   'tag': '📺 巴哈姆特',\n   'outbounds': ['🇹🇼 台湾节点', '🚀 节点选择', '🚀 手动切换', 'DIRECT']},\n  {'type': 'selector',\n   'tag': '📺 哔哩哔哩',\n   'outbounds': ['🎯 全球直连', '🇭🇰 香港节点', '🇹🇼 台湾节点']},\n  {'type': 'selector',\n   'tag': '🌍 国外媒体',\n   'outbounds': ['🚀 节点选择',\n    '♻️ 自动选择',\n    '🇭🇰 香港节点',\n    '🇹🇼 台湾节点',\n    '🇸🇬 狮城节点',\n    '🇯🇵 日本节点',\n    '🇺🇲 美国节点',\n    '🇰🇷 韩国节点',\n    '🚀 手动切换',\n    'DIRECT']},\n  {'type': 'selector',\n   'tag': '🌏 国内媒体',\n   'outbounds': ['DIRECT',\n    '🇭🇰 香港节点',\n    '🇹🇼 台湾节点',\n    '🇸🇬 狮城节点',\n    '🇯🇵 日本节点',\n    '🚀 手动切换']},\n  {'type': 'selector',\n   'tag': '☁️ CloudFlare Server',\n   'outbounds': ['♻️ 自动选择',\n    'DIRECT',\n    '🇭🇰 香港节点',\n    '🇹🇼 台湾节点',\n    '🇸🇬 狮城节点',\n    '🇯🇵 日本节点',\n    '🇺🇲 美国节点',\n    '🇰🇷 韩国节点',\n    '🚀 手动切换']},\n  {'type': 'selector',\n   'tag': '📢 谷歌FCM',\n   'outbounds': ['DIRECT',\n    '🚀 节点选择',\n    '🇺🇲 美国节点',\n    '🇭🇰 香港节点',\n    '🇹🇼 台湾节点',\n    '🇸🇬 狮城节点',\n    '🇯🇵 日本节点',\n    '🇰🇷 韩国节点',\n    '🚀 手动切换']},\n  {'type': 'selector',\n   'tag': 'Ⓜ️ 微软Bing',\n   'outbounds': ['🚀 节点选择',\n    '♻️ 自动选择',\n    '🇭🇰 香港节点',\n    '🇹🇼 台湾节点',\n    '🇯🇵 日本节点',\n    '🇸🇬 狮城节点',\n    '🇺🇲 美国节点',\n    'DIRECT']},\n  {'type': 'selector',\n   'tag': 'Ⓜ️ 微软云盘',\n   'outbounds': ['DIRECT',\n    '🚀 节点选择',\n    '🇺🇲 美国节点',\n    '🇭🇰 香港节点',\n    '🇹🇼 台湾节点',\n    '🇸🇬 狮城节点',\n    '🇯🇵 日本节点',\n    '🇰🇷 韩国节点',\n    '🚀 手动切换']},\n  {'type': 'selector',\n   'tag': 'Ⓜ️ 微软服务',\n   'outbounds': ['DIRECT',\n    '🚀 节点选择',\n    '🇺🇲 美国节点',\n    '🇭🇰 香港节点',\n    '🇹🇼 台湾节点',\n    '🇸🇬 狮城节点',\n    '🇯🇵 日本节点',\n    '🇰🇷 韩国节点',\n    '🚀 手动切换']},\n  {'type': 'selector',\n   'tag': '🍎 苹果服务',\n   'outbounds': ['DIRECT',\n    '🚀 节点选择',\n    '🇺🇲 美国节点',\n    '🇭🇰 香港节点',\n    '🇹🇼 台湾节点',\n    '🇸🇬 狮城节点',\n    '🇯🇵 日本节点',\n    '🇰🇷 韩国节点',\n    '🚀 手动切换']},\n  {'type': 'selector',\n   'tag': '🎮 游戏平台',\n   'outbounds': ['DIRECT',\n    '🕹️ 游戏节点',\n    '🚀 节点选择',\n    '🇺🇲 美国节点',\n    '🇭🇰 香港节点',\n    '🇹🇼 台湾节点',\n    '🇸🇬 狮城节点',\n    '🇯🇵 日本节点',\n    '🇰🇷 韩国节点',\n    '🚀 手动切换']},\n  {'type': 'selector',\n   'tag': '🎶 网易音乐',\n   'outbounds': ['DIRECT', '🚀 节点选择', '♻️ 自动选择', '🎶 网易节点']},\n  {'type': 'selector',\n   'tag': '🎯 全球直连',\n   'outbounds': ['DIRECT', '🚀 节点选择', '♻️ 自动选择']},\n  {'type': 'selector', 'tag': '🛑 广告拦截', 'outbounds': ['REJECT', 'DIRECT']},\n  {'type': 'selector', 'tag': '🍃 应用净化', 'outbounds': ['REJECT', 'DIRECT']},\n  {'type': 'selector', 'tag': '🆎 AdBlock', 'outbounds': ['REJECT', 'DIRECT']},\n  {'type': 'selector', 'tag': '🛡️ 隐私防护', 'outbounds': ['REJECT', 'DIRECT']},\n  {'type': 'selector',\n   'tag': '🐟 漏网之鱼',\n   'outbounds': ['🚀 节点选择',\n    '♻️ 自动选择',\n    'DIRECT',\n    '🇭🇰 香港节点',\n    '🇹🇼 台湾节点',\n    '🇸🇬 狮城节点',\n    '🇯🇵 日本节点',\n    '🇺🇲 美国节点',\n    '🇰🇷 韩国节点',\n    '🚀 手动切换']},\n  {'type': 'urltest',\n   'tag': '🇭🇰 香港节点',\n   'providers': ['🛫 FastLink', '🛫 NiceCloud'],\n   'includes': ['香港|广港|HK|hk|Hong Kong|HongKong|hongkong'],\n   'excludes': '游戏',\n   'url': 'http://www.apple.com/library/test/success.html',\n   'interval': '5m',\n   'tolerance': 50},\n  {'type': 'urltest',\n   'tag': '🇹🇼 台湾节点',\n   'providers': ['🛫 FastLink', '🛫 NiceCloud'],\n   'includes': ['台|新北|彰化|TW|Taiwan'],\n   'url': 'http://www.apple.com/library/test/success.html',\n   'interval': '5m',\n   'tolerance': 50},\n  {'type': 'urltest',\n   'tag': '🇯🇵 日本节点',\n   'providers': ['🛫 FastLink', '🛫 NiceCloud'],\n   'includes': ['日本|川日|东京|大阪|泉日|埼玉|沪日|深日|[^-]日|JP|Japan'],\n   'url': 'http://www.apple.com/library/test/success.html',\n   'interval': '5m',\n   'tolerance': 50},\n  {'type': 'urltest',\n   'tag': '🇺🇲 美国节点',\n   'providers': ['🛫 FastLink', '🛫 NiceCloud'],\n   'includes': ['美|波特兰|达拉斯|俄勒冈|凤凰城|费利蒙|硅谷|拉斯维加斯|洛杉矶|圣何塞|圣克拉拉|西雅图|芝加哥|US|United States'],\n   'url': 'http://www.apple.com/library/test/success.html',\n   'interval': '5m',\n   'tolerance': 150},\n  {'type': 'urltest',\n   'tag': '🇪🇺 欧洲节点',\n   'providers': ['🛫 FastLink', '🛫 NiceCloud'],\n   'includes': ['欧洲|德国|法国|英国|土耳其|加拿大|阿根廷|爱沙尼亚'],\n   'url': 'http://www.apple.com/library/test/success.html',\n   'interval': '5m',\n   'tolerance': 50},\n  {'type': 'urltest',\n   'tag': '🇸🇬 狮城节点',\n   'providers': ['🛫 FastLink', '🛫 NiceCloud'],\n   'includes': ['新加坡|坡|狮城|SG|Singapore'],\n   'url': 'http://www.apple.com/library/test/success.html',\n   'interval': '5m',\n   'tolerance': 50},\n  {'type': 'urltest',\n   'tag': '🇰🇷 韩国节点',\n   'providers': ['🛫 FastLink', '🛫 NiceCloud'],\n   'includes': ['KR|Korea|KOR|首尔|韩|韓'],\n   'url': 'http://www.apple.com/library/test/success.html',\n   'interval': '5m',\n   'tolerance': 50},\n  {'type': 'urltest',\n   'tag': '🕹️ 游戏节点',\n   'providers': ['🛫 FastLink'],\n   'includes': ['游戏|Game|Gaming|Gamer|玩家'],\n   'url': 'http://www.apple.com/library/test/success.html',\n   'interval': '5m',\n   'tolerance': 50},\n  {'type': 'urltest',\n   'tag': '🎶 网易节点',\n   'providers': ['🛫 FastLink', '🛫 NiceCloud'],\n   'includes': ['网易|音乐|解锁|Music|NetEase'],\n   'excludes': '游戏',\n   'url': 'http://www.apple.com/library/test/success.html',\n   'interval': '5m',\n   'tolerance': 50},\n  {'type': 'urltest',\n   'tag': '🎥 奈飞节点',\n   'providers': ['🛫 FastLink', '🛫 NiceCloud'],\n   'includes': ['NF|奈飞|解锁|Netflix|NETFLIX|Media'],\n   'excludes': '音乐',\n   'url': 'http://www.apple.com/library/test/success.html',\n   'interval': '5m',\n   'tolerance': 50},\n  {'type': 'selector',\n   'tag': 'GLOBAL',\n   'outbounds': ['♻️ 自动选择',\n    '🔯 故障转移',\n    '🇭🇰 香港节点',\n    '🇹🇼 台湾节点',\n    '🇸🇬 狮城节点',\n    '🇯🇵 日本节点',\n    '🇺🇲 美国节点',\n    '🇰🇷 韩国节点',\n    '🚀 手动切换',\n    'DIRECT']},\n  {'tag': 'REJECT', 'type': 'block'},\n  {'tag': 'DIRECT', 'type': 'direct', 'domain_strategy': 'prefer_ipv6'},\n  {'tag': 'dns-out', 'type': 'dns'}]}"
     },
     "execution_count": 10,
     "metadata": {},
     "output_type": "execute_result"
    }
   ],
   "source": [
    "outbounds"
   ],
   "metadata": {
    "collapsed": false,
    "ExecuteTime": {
     "end_time": "2024-02-04T10:29:56.254487200Z",
     "start_time": "2024-02-04T10:29:56.229399800Z"
    }
   },
   "id": "97af7fd6158365f4",
   "execution_count": 10
  },
  {
   "cell_type": "code",
   "outputs": [
    {
     "data": {
      "text/plain": "[{'type': 'selector',\n  'tag': '🚀 节点选择',\n  'outbounds': ['♻️ 自动选择',\n   '🔯 故障转移',\n   '🇭🇰 香港节点',\n   '🇹🇼 台湾节点',\n   '🇸🇬 狮城节点',\n   '🇯🇵 日本节点',\n   '🇺🇲 美国节点',\n   '🇰🇷 韩国节点',\n   '🚀 手动切换',\n   'DIRECT']},\n {'type': 'selector',\n  'tag': '🚀 手动切换',\n  'providers': ['🛫 FastLink', '🛫 NiceCloud'],\n  'excludes': '官网|客户端'},\n {'type': 'urltest',\n  'tag': '♻️ 自动选择',\n  'providers': ['🛫 FastLink', '🛫 NiceCloud'],\n  'excludes': '游戏|官网|客户端|福利',\n  'url': 'http://www.apple.com/library/test/success.html',\n  'interval': '5m',\n  'tolerance': 50},\n {'type': 'urltest',\n  'tag': '🔯 故障转移',\n  'providers': ['🛫 FastLink', '🛫 NiceCloud']},\n {'type': 'selector',\n  'tag': '📲 电报消息',\n  'outbounds': ['🚀 节点选择',\n   '♻️ 自动选择',\n   '🇸🇬 狮城节点',\n   '🇭🇰 香港节点',\n   '🇹🇼 台湾节点',\n   '🇯🇵 日本节点',\n   '🇺🇲 美国节点',\n   '🇰🇷 韩国节点',\n   '🚀 手动切换',\n   'DIRECT']},\n {'type': 'selector',\n  'tag': '💬 OpenAi',\n  'outbounds': ['🚀 节点选择',\n   '♻️ 自动选择',\n   '🇸🇬 狮城节点',\n   '🇭🇰 香港节点',\n   '🇹🇼 台湾节点',\n   '🇯🇵 日本节点',\n   '🇺🇲 美国节点',\n   '🇰🇷 韩国节点',\n   '🚀 手动切换',\n   'DIRECT']},\n {'type': 'selector',\n  'tag': '👾 JetBrainsAI',\n  'outbounds': ['🚀 节点选择',\n   '♻️ 自动选择',\n   '🇭🇰 香港节点',\n   '🇹🇼 台湾节点',\n   '🇯🇵 日本节点',\n   '🇸🇬 狮城节点',\n   '🇺🇲 美国节点',\n   'DIRECT']},\n {'type': 'selector',\n  'tag': '📹 油管视频',\n  'outbounds': ['🚀 节点选择',\n   '♻️ 自动选择',\n   '🇸🇬 狮城节点',\n   '🇭🇰 香港节点',\n   '🇹🇼 台湾节点',\n   '🇯🇵 日本节点',\n   '🇺🇲 美国节点',\n   '🇰🇷 韩国节点',\n   '🚀 手动切换',\n   'DIRECT']},\n {'type': 'selector',\n  'tag': '🎥 奈飞视频',\n  'outbounds': ['🎥 奈飞节点',\n   '🚀 节点选择',\n   '♻️ 自动选择',\n   '🇸🇬 狮城节点',\n   '🇭🇰 香港节点',\n   '🇹🇼 台湾节点',\n   '🇯🇵 日本节点',\n   '🇺🇲 美国节点',\n   '🇰🇷 韩国节点',\n   '🚀 手动切换',\n   'DIRECT']},\n {'type': 'selector',\n  'tag': '📺 巴哈姆特',\n  'outbounds': ['🇹🇼 台湾节点', '🚀 节点选择', '🚀 手动切换', 'DIRECT']},\n {'type': 'selector',\n  'tag': '📺 哔哩哔哩',\n  'outbounds': ['🎯 全球直连', '🇭🇰 香港节点', '🇹🇼 台湾节点']},\n {'type': 'selector',\n  'tag': '🌍 国外媒体',\n  'outbounds': ['🚀 节点选择',\n   '♻️ 自动选择',\n   '🇭🇰 香港节点',\n   '🇹🇼 台湾节点',\n   '🇸🇬 狮城节点',\n   '🇯🇵 日本节点',\n   '🇺🇲 美国节点',\n   '🇰🇷 韩国节点',\n   '🚀 手动切换',\n   'DIRECT']},\n {'type': 'selector',\n  'tag': '🌏 国内媒体',\n  'outbounds': ['DIRECT',\n   '🇭🇰 香港节点',\n   '🇹🇼 台湾节点',\n   '🇸🇬 狮城节点',\n   '🇯🇵 日本节点',\n   '🚀 手动切换']},\n {'type': 'selector',\n  'tag': '☁️ CloudFlare Server',\n  'outbounds': ['♻️ 自动选择',\n   'DIRECT',\n   '🇭🇰 香港节点',\n   '🇹🇼 台湾节点',\n   '🇸🇬 狮城节点',\n   '🇯🇵 日本节点',\n   '🇺🇲 美国节点',\n   '🇰🇷 韩国节点',\n   '🚀 手动切换']},\n {'type': 'selector',\n  'tag': '📢 谷歌FCM',\n  'outbounds': ['DIRECT',\n   '🚀 节点选择',\n   '🇺🇲 美国节点',\n   '🇭🇰 香港节点',\n   '🇹🇼 台湾节点',\n   '🇸🇬 狮城节点',\n   '🇯🇵 日本节点',\n   '🇰🇷 韩国节点',\n   '🚀 手动切换']},\n {'type': 'selector',\n  'tag': 'Ⓜ️ 微软Bing',\n  'outbounds': ['🚀 节点选择',\n   '♻️ 自动选择',\n   '🇭🇰 香港节点',\n   '🇹🇼 台湾节点',\n   '🇯🇵 日本节点',\n   '🇸🇬 狮城节点',\n   '🇺🇲 美国节点',\n   'DIRECT']},\n {'type': 'selector',\n  'tag': 'Ⓜ️ 微软云盘',\n  'outbounds': ['DIRECT',\n   '🚀 节点选择',\n   '🇺🇲 美国节点',\n   '🇭🇰 香港节点',\n   '🇹🇼 台湾节点',\n   '🇸🇬 狮城节点',\n   '🇯🇵 日本节点',\n   '🇰🇷 韩国节点',\n   '🚀 手动切换']},\n {'type': 'selector',\n  'tag': 'Ⓜ️ 微软服务',\n  'outbounds': ['DIRECT',\n   '🚀 节点选择',\n   '🇺🇲 美国节点',\n   '🇭🇰 香港节点',\n   '🇹🇼 台湾节点',\n   '🇸🇬 狮城节点',\n   '🇯🇵 日本节点',\n   '🇰🇷 韩国节点',\n   '🚀 手动切换']},\n {'type': 'selector',\n  'tag': '🍎 苹果服务',\n  'outbounds': ['DIRECT',\n   '🚀 节点选择',\n   '🇺🇲 美国节点',\n   '🇭🇰 香港节点',\n   '🇹🇼 台湾节点',\n   '🇸🇬 狮城节点',\n   '🇯🇵 日本节点',\n   '🇰🇷 韩国节点',\n   '🚀 手动切换']},\n {'type': 'selector',\n  'tag': '🎮 游戏平台',\n  'outbounds': ['DIRECT',\n   '🕹️ 游戏节点',\n   '🚀 节点选择',\n   '🇺🇲 美国节点',\n   '🇭🇰 香港节点',\n   '🇹🇼 台湾节点',\n   '🇸🇬 狮城节点',\n   '🇯🇵 日本节点',\n   '🇰🇷 韩国节点',\n   '🚀 手动切换']},\n {'type': 'selector',\n  'tag': '🎶 网易音乐',\n  'outbounds': ['DIRECT', '🚀 节点选择', '♻️ 自动选择', '🎶 网易节点']},\n {'type': 'selector',\n  'tag': '🎯 全球直连',\n  'outbounds': ['DIRECT', '🚀 节点选择', '♻️ 自动选择']},\n {'type': 'selector', 'tag': '🛑 广告拦截', 'outbounds': ['REJECT', 'DIRECT']},\n {'type': 'selector', 'tag': '🍃 应用净化', 'outbounds': ['REJECT', 'DIRECT']},\n {'type': 'selector', 'tag': '🆎 AdBlock', 'outbounds': ['REJECT', 'DIRECT']},\n {'type': 'selector', 'tag': '🛡️ 隐私防护', 'outbounds': ['REJECT', 'DIRECT']},\n {'type': 'selector',\n  'tag': '🐟 漏网之鱼',\n  'outbounds': ['🚀 节点选择',\n   '♻️ 自动选择',\n   'DIRECT',\n   '🇭🇰 香港节点',\n   '🇹🇼 台湾节点',\n   '🇸🇬 狮城节点',\n   '🇯🇵 日本节点',\n   '🇺🇲 美国节点',\n   '🇰🇷 韩国节点',\n   '🚀 手动切换']},\n {'type': 'urltest',\n  'tag': '🇭🇰 香港节点',\n  'providers': ['🛫 FastLink', '🛫 NiceCloud'],\n  'includes': ['香港|广港|HK|hk|Hong Kong|HongKong|hongkong'],\n  'excludes': '游戏',\n  'url': 'http://www.apple.com/library/test/success.html',\n  'interval': '5m',\n  'tolerance': 50},\n {'type': 'urltest',\n  'tag': '🇹🇼 台湾节点',\n  'providers': ['🛫 FastLink', '🛫 NiceCloud'],\n  'includes': ['台|新北|彰化|TW|Taiwan'],\n  'url': 'http://www.apple.com/library/test/success.html',\n  'interval': '5m',\n  'tolerance': 50},\n {'type': 'urltest',\n  'tag': '🇯🇵 日本节点',\n  'providers': ['🛫 FastLink', '🛫 NiceCloud'],\n  'includes': ['日本|川日|东京|大阪|泉日|埼玉|沪日|深日|[^-]日|JP|Japan'],\n  'url': 'http://www.apple.com/library/test/success.html',\n  'interval': '5m',\n  'tolerance': 50},\n {'type': 'urltest',\n  'tag': '🇺🇲 美国节点',\n  'providers': ['🛫 FastLink', '🛫 NiceCloud'],\n  'includes': ['美|波特兰|达拉斯|俄勒冈|凤凰城|费利蒙|硅谷|拉斯维加斯|洛杉矶|圣何塞|圣克拉拉|西雅图|芝加哥|US|United States'],\n  'url': 'http://www.apple.com/library/test/success.html',\n  'interval': '5m',\n  'tolerance': 150},\n {'type': 'urltest',\n  'tag': '🇪🇺 欧洲节点',\n  'providers': ['🛫 FastLink', '🛫 NiceCloud'],\n  'includes': ['欧洲|德国|法国|英国|土耳其|加拿大|阿根廷|爱沙尼亚'],\n  'url': 'http://www.apple.com/library/test/success.html',\n  'interval': '5m',\n  'tolerance': 50},\n {'type': 'urltest',\n  'tag': '🇸🇬 狮城节点',\n  'providers': ['🛫 FastLink', '🛫 NiceCloud'],\n  'includes': ['新加坡|坡|狮城|SG|Singapore'],\n  'url': 'http://www.apple.com/library/test/success.html',\n  'interval': '5m',\n  'tolerance': 50},\n {'type': 'urltest',\n  'tag': '🇰🇷 韩国节点',\n  'providers': ['🛫 FastLink', '🛫 NiceCloud'],\n  'includes': ['KR|Korea|KOR|首尔|韩|韓'],\n  'url': 'http://www.apple.com/library/test/success.html',\n  'interval': '5m',\n  'tolerance': 50},\n {'type': 'urltest',\n  'tag': '🕹️ 游戏节点',\n  'providers': ['🛫 FastLink'],\n  'includes': ['游戏|Game|Gaming|Gamer|玩家'],\n  'url': 'http://www.apple.com/library/test/success.html',\n  'interval': '5m',\n  'tolerance': 50},\n {'type': 'urltest',\n  'tag': '🎶 网易节点',\n  'providers': ['🛫 FastLink', '🛫 NiceCloud'],\n  'includes': ['网易|音乐|解锁|Music|NetEase'],\n  'excludes': '游戏',\n  'url': 'http://www.apple.com/library/test/success.html',\n  'interval': '5m',\n  'tolerance': 50},\n {'type': 'urltest',\n  'tag': '🎥 奈飞节点',\n  'providers': ['🛫 FastLink', '🛫 NiceCloud'],\n  'includes': ['NF|奈飞|解锁|Netflix|NETFLIX|Media'],\n  'excludes': '音乐',\n  'url': 'http://www.apple.com/library/test/success.html',\n  'interval': '5m',\n  'tolerance': 50},\n {'type': 'selector',\n  'tag': 'GLOBAL',\n  'outbounds': ['♻️ 自动选择',\n   '🔯 故障转移',\n   '🇭🇰 香港节点',\n   '🇹🇼 台湾节点',\n   '🇸🇬 狮城节点',\n   '🇯🇵 日本节点',\n   '🇺🇲 美国节点',\n   '🇰🇷 韩国节点',\n   '🚀 手动切换',\n   'DIRECT']},\n {'tag': 'REJECT', 'type': 'block'},\n {'tag': 'DIRECT', 'type': 'direct', 'domain_strategy': 'prefer_ipv6'},\n {'tag': 'dns-out', 'type': 'dns'}]"
     },
     "execution_count": 11,
     "metadata": {},
     "output_type": "execute_result"
    }
   ],
   "source": [
    "data['outbounds'] = outbounds['outbounds']\n",
    "data['outbounds']"
   ],
   "metadata": {
    "collapsed": false,
    "ExecuteTime": {
     "end_time": "2024-02-04T10:30:40.956611900Z",
     "start_time": "2024-02-04T10:30:40.938094700Z"
    }
   },
   "id": "12fe10407a03d88c",
   "execution_count": 11
  },
  {
   "cell_type": "code",
   "outputs": [],
   "source": [
    "with open('../Config/config.json', 'w', encoding='utf-8') as f:\n",
    "    json.dump(data, f, ensure_ascii=False, indent=4)"
   ],
   "metadata": {
    "collapsed": false,
    "ExecuteTime": {
     "end_time": "2024-02-04T10:34:09.356438900Z",
     "start_time": "2024-02-04T10:34:09.330239600Z"
    }
   },
   "id": "5915bb5e195de3eb",
   "execution_count": 12
  },
  {
   "cell_type": "code",
   "outputs": [],
   "source": [],
   "metadata": {
    "collapsed": false
   },
   "id": "9fa1f17431f6904"
  }
 ],
 "metadata": {
  "kernelspec": {
   "display_name": "Python 3",
   "language": "python",
   "name": "python3"
  },
  "language_info": {
   "codemirror_mode": {
    "name": "ipython",
    "version": 2
   },
   "file_extension": ".py",
   "mimetype": "text/x-python",
   "name": "python",
   "nbconvert_exporter": "python",
   "pygments_lexer": "ipython2",
   "version": "2.7.6"
  }
 },
 "nbformat": 4,
 "nbformat_minor": 5
}
